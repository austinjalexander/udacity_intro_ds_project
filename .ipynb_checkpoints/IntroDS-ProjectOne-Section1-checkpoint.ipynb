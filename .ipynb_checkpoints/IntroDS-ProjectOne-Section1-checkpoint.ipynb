{
 "cells": [
  {
   "cell_type": "markdown",
   "metadata": {},
   "source": [
    "#Analyzing the NYC Subway Dataset\n",
    "#Intro to Data Science: Final Project 1, Part 2  \n",
    "#(Short Questions)\n",
    "##Section 1. Statistical Test\n",
    "Austin J. Alexander\n",
    "***"
   ]
  },
  {
   "cell_type": "markdown",
   "metadata": {},
   "source": [
    "##Import Directives and Initial DataFrame Creation"
   ]
  },
  {
   "cell_type": "code",
   "execution_count": 1,
   "metadata": {
    "collapsed": false
   },
   "outputs": [],
   "source": [
    "import inflect # for string manipulation\n",
    "import numpy as np\n",
    "import pandas as pd\n",
    "import scipy as sp\n",
    "import scipy.stats as st\n",
    "import matplotlib.pyplot as plt\n",
    "%matplotlib inline\n",
    "\n",
    "filename = '/Users/excalibur/py/nanodegree/intro_ds/final_project/improved-dataset/turnstile_weather_v2.csv'\n",
    "\n",
    "# import data\n",
    "data = pd.read_csv(filename)"
   ]
  },
  {
   "cell_type": "markdown",
   "metadata": {},
   "source": [
    "##Functions for Getting, Mapping, and Plotting Data"
   ]
  },
  {
   "cell_type": "code",
   "execution_count": 2,
   "metadata": {
    "collapsed": false
   },
   "outputs": [],
   "source": [
    "entries_hourly_by_row = data['ENTRIESn_hourly'].values"
   ]
  },
  {
   "cell_type": "code",
   "execution_count": 3,
   "metadata": {
    "collapsed": false
   },
   "outputs": [],
   "source": [
    "def map_column_to_entries_hourly(column):\n",
    "    instances = column.values # e.g., longitude_instances = data['longitude'].values\n",
    "    \n",
    "    # reduce\n",
    "    entries_hourly = {} # e.g., longitude_entries_hourly = {}\n",
    "    for i in np.arange(len(instances)): \n",
    "        if instances[i] in entries_hourly:\n",
    "            entries_hourly[instances[i]] += float(entries_hourly_by_row[i])\n",
    "        else:\n",
    "            entries_hourly[instances[i]] = float(entries_hourly_by_row[i])\n",
    "            \n",
    "    return entries_hourly # e.g., longitudes, entries"
   ]
  },
  {
   "cell_type": "code",
   "execution_count": 4,
   "metadata": {
    "collapsed": false
   },
   "outputs": [],
   "source": [
    "def create_df(entries_hourly_dict, column1name):\n",
    "    # e.g, longitude_df = pd.DataFrame(data=longitude_entries_hourly.items(), columns=['longitude','entries'])\n",
    "    df = pd.DataFrame(data=entries_hourly_dict.items(), columns=[column1name,'entries'])\n",
    "    \n",
    "    return df # e.g, longitude_df"
   ]
  },
  {
   "cell_type": "code",
   "execution_count": 5,
   "metadata": {
    "collapsed": false
   },
   "outputs": [],
   "source": [
    "rain_entries_hourly = map_column_to_entries_hourly(data['rain'])\n",
    "rain_df = create_df(rain_entries_hourly, 'rain')\n",
    "rain_days = data[data['rain'] == 1]\n",
    "no_rain_days = data[data['rain'] == 0]"
   ]
  },
  {
   "cell_type": "code",
   "execution_count": 6,
   "metadata": {
    "collapsed": false
   },
   "outputs": [],
   "source": [
    "def plot_box(sample1, sample2):\n",
    "    plt.boxplot([sample2, sample1], vert=False)\n",
    "    plt.title('NUMBER OF ENTRIES PER SAMPLE')\n",
    "    plt.xlabel('ENTRIESn_hourly')\n",
    "    plt.yticks([1, 2], ['Sample 2', 'Sample 1'])\n",
    "\n",
    "    plt.show()"
   ]
  },
  {
   "cell_type": "markdown",
   "metadata": {},
   "source": [
    "##Function for Basic Statistics"
   ]
  },
  {
   "cell_type": "code",
   "execution_count": 7,
   "metadata": {
    "collapsed": false
   },
   "outputs": [],
   "source": [
    "def describe_samples(sample1, sample2):\n",
    "    size1, min_max1, mean1, var1, skew1, kurt1 = st.describe(sample1)\n",
    "    size2, min_max2, mean2, var2, skew2, kurt2 = st.describe(sample2)\n",
    "\n",
    "    med1 = np.median(sample1)\n",
    "    med2 = np.median(sample2)\n",
    "\n",
    "    std1 = np.std(sample1)\n",
    "    std2 = np.std(sample2)\n",
    "\n",
    "    print \"Sample 1 (rainy days):\\n  min = {0}, max = {1},\\n  mean = {2:.2f}, median = {3}, var = {4:.2f}, std = {5:.2f}\".format(min_max1[0], min_max1[1], mean1, med1, var1, std1)\n",
    "    print \"Sample 2 (non-rainy days):\\n  min = {0}, max = {1},\\n  mean = {2:.2f}, median = {3}, var = {4:.2f}, std = {5:.2f}\".format(min_max2[0], min_max2[1], mean2, med2, var2, std2)"
   ]
  },
  {
   "cell_type": "markdown",
   "metadata": {},
   "source": [
    "##Formulas Implemented  \n",
    "(i.e., not included in modules/packages)"
   ]
  },
  {
   "cell_type": "markdown",
   "metadata": {},
   "source": [
    "###Wendt's rank-biserial correlation $r$\n",
    "\n",
    "$$r = 1 - \\frac{2U}{n_{1}n_{2}}$$\n",
    "\n",
    "###Cohen's $d$ (and pooled standard deviation $s$)\n",
    "\n",
    "$$d = \\frac{\\bar{x}_{1} - \\bar{x}_{2}}{s}$$\n",
    "\n",
    "$$s = \\sqrt{\\frac{(n_{1} - 1)s_{1}^{2} + (n_{2} - 1)s_{2}^{2}}{n_{1} + n_{2} - 2}}$$"
   ]
  },
  {
   "cell_type": "markdown",
   "metadata": {},
   "source": [
    "##Class for Mann-Whitney U Test"
   ]
  },
  {
   "cell_type": "code",
   "execution_count": 8,
   "metadata": {
    "collapsed": false
   },
   "outputs": [],
   "source": [
    "class MannWhitneyU:\n",
    "    \n",
    "    def __init__(self,n):\n",
    "        self.n = n\n",
    "        self.num_of_tests = 1000\n",
    "        self.sample1 = 0\n",
    "        self.sample2 = 0\n",
    "        \n",
    "    def sample_and_test(self, plot, describe):\n",
    "        self.sample1 = np.random.choice(rain_days['ENTRIESn_hourly'], size=self.n, replace=False)\n",
    "        self.sample2 = np.random.choice(no_rain_days['ENTRIESn_hourly'], size=self.n, replace=False)\n",
    "        ### the following two self.sample2 assignments are for testing purposes ###\n",
    "        #self.sample2 = self.sample1 # test when samples are same\n",
    "        #self.sample2 = np.random.choice(np.random.randn(self.n),self.n) # test for when samples are very different \n",
    "        \n",
    "        if plot == True:\n",
    "            plot_box(self.sample1,self.sample2)\n",
    "        \n",
    "        if describe == True:\n",
    "            describe_samples(self.sample1,self.sample2)\n",
    "        \n",
    "        return st.mannwhitneyu(self.sample1, self.sample2)\n",
    "    \n",
    "    def effect_sizes(self, U):\n",
    "        # Wendt's rank-biserial correlation\n",
    "        r = (1 - np.true_divide((2*U),(self.n*self.n)))\n",
    "        # Cohen's d\n",
    "        s = np.sqrt(np.true_divide((((self.n-1)*np.std(self.sample1)**2) + ((self.n-1)*np.std(self.sample2)**2)), (self.n+self.n-2)))\n",
    "        d = np.true_divide((np.mean(self.sample1) - np.mean(self.sample2)), s)\n",
    "        return r,d\n",
    "\n",
    "    def trial_series(self):\n",
    "        success = 0\n",
    "        U_values = []\n",
    "        p_values = []\n",
    "        d_values = []\n",
    "        r_values = []\n",
    "        for i in np.arange(self.num_of_tests):\n",
    "            U, p = self.sample_and_test(False, False)\n",
    "            r, d = self.effect_sizes(U)\n",
    "            U_values.append(U)\n",
    "            # scipy.stats.mannwhitneyu returns p for a one-sided hypothesis, \n",
    "            # so multiply by 2 for two-sided\n",
    "            p_values.append(p*2)\n",
    "            d_values.append(d)\n",
    "            r_values.append(r)\n",
    "            if p <= 0.05:\n",
    "                success += 1\n",
    "\n",
    "        print \"n = {0}\".format(self.n)\n",
    "        print \"average U value: {0:.2f}\".format(np.mean(U_values))\n",
    "        print \"number of times p <= 0.05: {0}/{1} ({2}%)\".format(success, self.num_of_tests, (np.true_divide(success,self.num_of_tests)*100))\n",
    "        print \"average p value: {0:.2f}\".format(np.mean(p_values))\n",
    "        print \"average rank-biserial r value: {0:.2f}\".format(np.mean(r_values))\n",
    "        print \"average Cohen's d value: {0:.2f}\".format(np.mean(d_values))\n",
    "        \n",
    "        plt.hist(p_values, color='green', alpha=0.3)\n",
    "        plt.show()"
   ]
  },
  {
   "cell_type": "markdown",
   "metadata": {},
   "source": [
    "##Section 1. Statistical Test"
   ]
  },
  {
   "cell_type": "markdown",
   "metadata": {},
   "source": [
    "<h3 id='1_1_a'>1.1.a Which statistical test did you use to analyse the NYC subway data?</h3>"
   ]
  },
  {
   "cell_type": "markdown",
   "metadata": {},
   "source": [
    "The Mann-Whitney $U$ test was used to determine if there was a statistically significant difference between the number of reported entries on rainy and non-rainy occasions. This nonparametric test of the equality of two population medians from independent samples was used since the distribution of entries is non-normal (right-skewed) and their shape is the same, as seen visually via histograms, probability plots, and box plots, and as the result of the Shapiro-Wilk normality test (see <a href='IntroDS-ProjectOne-DataExploration-Supplement.ipynb#prep-for-stats' target='_blank'>Preparation for Statistical Tests</a>). However, since the sample sizes are so large, the parametric Welch's $t$-test likely could have been used (and, it was implemented for confirmation purposes, along with the nonparametric Wilcoxon signed-rank test; both agreed with the Mann-Whitney $U$ test results)."
   ]
  },
  {
   "cell_type": "markdown",
   "metadata": {},
   "source": [
    "####Testing Average Values of $p$, $r$, and $d$ for Various Sample Sizes"
   ]
  },
  {
   "cell_type": "code",
   "execution_count": 9,
   "metadata": {
    "collapsed": false
   },
   "outputs": [
    {
     "name": "stdout",
     "output_type": "stream",
     "text": [
      "n = 30\n",
      "average U value: 395.37\n",
      "number of times p <= 0.05: 92/1000 (9.2%)\n",
      "average p value: 0.50\n",
      "average rank-biserial r value: 0.12\n",
      "average Cohen's d value: 0.05\n"
     ]
    },
    {
     "data": {
      "image/png": "[encoded data removed]",
      "text/plain": [
       "<matplotlib.figure.Figure at 0x11017fdd0>"
      ]
     },
     "metadata": {},
     "output_type": "display_data"
    },
    {
     "name": "stdout",
     "output_type": "stream",
     "text": [
      "n = 100\n",
      "average U value: 4651.27\n",
      "number of times p <= 0.05: 143/1000 (14.3%)\n",
      "average p value: 0.48\n",
      "average rank-biserial r value: 0.07\n",
      "average Cohen's d value: 0.07\n"
     ]
    },
    {
     "data": {
      "image/png": "[encoded data removed]",
      "text/plain": [
       "<matplotlib.figure.Figure at 0x11017f610>"
      ]
     },
     "metadata": {},
     "output_type": "display_data"
    },
    {
     "name": "stdout",
     "output_type": "stream",
     "text": [
      "n = 500\n",
      "average U value: 120289.09\n",
      "number of times p <= 0.05: 191/1000 (19.1%)\n",
      "average p value: 0.40\n",
      "average rank-biserial r value: 0.04\n",
      "average Cohen's d value: 0.06\n"
     ]
    },
    {
     "data": {
      "image/png": "[encoded data removed]",
      "text/plain": [
       "<matplotlib.figure.Figure at 0x1106b1e50>"
      ]
     },
     "metadata": {},
     "output_type": "display_data"
    },
    {
     "name": "stdout",
     "output_type": "stream",
     "text": [
      "n = 1500\n",
      "average U value: 1088803.02\n",
      "number of times p <= 0.05: 437/1000 (43.7%)\n",
      "average p value: 0.25\n",
      "average rank-biserial r value: 0.03\n",
      "average Cohen's d value: 0.06\n"
     ]
    },
    {
     "data": {
      "image/png": "[encoded data removed]",
      "text/plain": [
       "<matplotlib.figure.Figure at 0x110917810>"
      ]
     },
     "metadata": {},
     "output_type": "display_data"
    },
    {
     "name": "stdout",
     "output_type": "stream",
     "text": [
      "n = 3000\n",
      "average U value: 4359194.71\n",
      "number of times p <= 0.05: 703/1000 (70.3%)\n",
      "average p value: 0.12\n",
      "average rank-biserial r value: 0.03\n",
      "average Cohen's d value: 0.06\n"
     ]
    },
    {
     "data": {
      "image/png": "[encoded data removed]",
      "text/plain": [
       "<matplotlib.figure.Figure at 0x11029ed90>"
      ]
     },
     "metadata": {},
     "output_type": "display_data"
    },
    {
     "name": "stdout",
     "output_type": "stream",
     "text": [
      "n = 5000\n",
      "average U value: 12128284.78\n",
      "number of times p <= 0.05: 886/1000 (88.6%)\n",
      "average p value: 0.04\n",
      "average rank-biserial r value: 0.03\n",
      "average Cohen's d value: 0.06\n"
     ]
    },
    {
     "data": {
      "image/png": "[encoded data removed]",
      "text/plain": [
       "<matplotlib.figure.Figure at 0x10bea7510>"
      ]
     },
     "metadata": {},
     "output_type": "display_data"
    },
    {
     "name": "stdout",
     "output_type": "stream",
     "text": [
      "n = 9585\n",
      "average U value: 44542035.04\n",
      "number of times p <= 0.05: 999/1000 (99.9%)\n",
      "average p value: 0.00\n",
      "average rank-biserial r value: 0.03\n",
      "average Cohen's d value: 0.06\n"
     ]
    },
    {
     "data": {
      "image/png": "[encoded data removed]",
      "text/plain": [
       "<matplotlib.figure.Figure at 0x11144e890>"
      ]
     },
     "metadata": {},
     "output_type": "display_data"
    }
   ],
   "source": [
    "sample_sizes = [30, 100, 500, 1500, 3000, 5000, 9585]\n",
    "for n in sample_sizes:\n",
    "    MannWhitneyU(n).trial_series()"
   ]
  },
  {
   "cell_type": "markdown",
   "metadata": {},
   "source": [
    "As witnessed above, when rainy and non-rainy days from the data set are considered populations (as opposed to samples themselves), it takes significantly large sample sizes from each population (e.g., $n = 3000$, which is more than $30\\%$ of the total number of rainy days in the data set) to attain low $p$-values<sup>1</sup> frequently enough to reject the null hypothesis of the Mann-Whitney $U$ test<sup>2</sup> with the critical values proposed below.\n",
    "\n",
    "Moreover, using Wendt's rank-biserial correlation $r$ and Cohen's $d$ to measure effect size, the relatively low average value of $r$<sup>3</sup> and the low average value of $d$<sup>4</sup> both suggest that the difference between the two samples (and, thus, the two populations) is trivial, even though, according to the Mann-Whitney U test, the difference appears to be statistically signficant (and only then with extremely large samples)<sup>5</sup>. In other words, statistical significance $\\neq$ practical significance.\n",
    "\n",
    "#####Notes\n",
    "<sup>1</sup> Identical samples would produce a large $p$ (e.g., $p \\approx 0.49$); extremely different samples would produce a very small number (e.g., $p \\approx 0$).\n",
    "\n",
    "<sup>2</sup> Identical samples would produce $U = \\frac{n^{2}}{2}$ (e.g., when $n = 450$, $U = 101250$); extremely different samples can produce a $U$ that is orders of magnitude smaller (e.g., when $n = 450$, possibly $U = 1293$).\n",
    "\n",
    "<sup>3</sup> For very different samples, $r \\rightarrow 1$; in the above tests, as $n$ increases, $r \\rightarrow 0$.  \n",
    "\n",
    "<sup>4</sup> For very different samples, $d \\rightarrow 1$; in the above tests, as $n$ increases, $d$ tends to remain constant, $d \\approx 0.06$, even when the sample size is extremely large. $d$ is interpreted as the difference in the number of standard deviations.\n",
    "\n",
    "<sup>5</sup> On the issue of $p$-values and large data sets, see Lin, M., Lucas, H.C., and Shmueli, G. Research Commentary—Too big to fail: Large samples and the P-value problem. *Inf. Syst. Res.* 2013; 24: 906–917. PDF <a href='http://www.galitshmueli.com/system/files/Print%20Version.pdf' target='_blank'>here</a>."
   ]
  },
  {
   "cell_type": "markdown",
   "metadata": {},
   "source": [
    "<h3 id='1_1_b'>1.1.b Did you use a one-tail or a two-tail P value?</h3>"
   ]
  },
  {
   "cell_type": "markdown",
   "metadata": {},
   "source": [
    "A two-tail $p$-value was selected since an appropriate initial question, given the results of the <a href='IntroDS-ProjectOne-DataExploration-Supplement.ipynb#weather-related' target='_blank'>Weather-Related Data</a> section of the *DataExploration* supplement, is simply whether or not there is a statistically significant difference between the populations (i.e., not whether one population is statistically-significantly greater than another)."
   ]
  },
  {
   "cell_type": "markdown",
   "metadata": {},
   "source": [
    "<h3 id='1_1_c'>1.1.c What is the null hypothesis?</h3>"
   ]
  },
  {
   "cell_type": "code",
   "execution_count": 10,
   "metadata": {
    "collapsed": false
   },
   "outputs": [
    {
     "name": "stdout",
     "output_type": "stream",
     "text": [
      "Shape of rainy-days data:(9585, 27)\n",
      "N = 9585\n",
      "0.05 * N = 479.25\n"
     ]
    }
   ],
   "source": [
    "print \"Shape of rainy-days data:\" +str(rain_days.shape)\n",
    "N = rain_days.shape[0]\n",
    "print \"N = \" + str(N)\n",
    "print \"0.05 * N = \" + str(0.05 * N)"
   ]
  },
  {
   "cell_type": "markdown",
   "metadata": {},
   "source": [
    "The Mann-Whitney $U$ test is a nonparametric test of the null hypothesis that the distributions of two populations are the same.\n",
    "\n",
    "To verify the assumption that the simple, randomly sampled values are independent, the sample sizes should be less than $5\\%$ of the population sizes ($n \\lt 0.05N$). Since the maximum number of rainy days is $9585$ ($N = 9585$), a reasonable sample size for each group would be $450$ ($n = 450$). \n",
    "\n",
    "**Null Hyptohesis**  \n",
    "$H_{0}$: $M_{1} = M_{2}$ or $H_{0}$: $M_{1} - M_{2} = 0$\n",
    "\n",
    "**Alternate Hypothesis**   \n",
    "$H_{1}$: $M_{1} \\neq M_{2}$ or $H_{1}$: $M_{1} - M_{2} \\neq 0$\n",
    "\n",
    "A $95\\%$ level of confidence would suggest that $95\\%$ of samples would produce similar statistical results.\n",
    "\n",
    "For a $95\\%$ level of confidence, the level of significance (i.e., the probability of making a Type I error)  $\\alpha = (1 - 0.05) \\cdot 100\\% = 0.05$."
   ]
  },
  {
   "cell_type": "markdown",
   "metadata": {},
   "source": [
    "<h3 id='1_1_d'>1.1.d What is your p-critical value?</h3>\n",
    "\n",
    "$p \\leq 0.05$"
   ]
  },
  {
   "cell_type": "markdown",
   "metadata": {},
   "source": [
    "####Gather New Samples and Perform Statistical Test"
   ]
  },
  {
   "cell_type": "code",
   "execution_count": 11,
   "metadata": {
    "collapsed": false
   },
   "outputs": [
    {
     "data": {
      "image/png": "[encoded data removed]",
      "text/plain": [
       "<matplotlib.figure.Figure at 0x10be9a910>"
      ]
     },
     "metadata": {},
     "output_type": "display_data"
    },
    {
     "name": "stdout",
     "output_type": "stream",
     "text": [
      "Sample 1 (rainy days):\n",
      "  min = 0.0, max = 29096.0,\n",
      "  mean = 2094.35, median = 877.5, var = 13978629.51, std = 3734.64\n",
      "Sample 2 (non-rainy days):\n",
      "  min = 0.0, max = 19235.0,\n",
      "  mean = 1561.55, median = 791.0, var = 5372640.58, std = 2315.32\n",
      "\n",
      "Mann-Whitney U test results:\n",
      "n = 450\n",
      "U = 96821.5\n",
      "p = 0.13\n",
      "rank-biserial r value: 0.04\n",
      "Cohen's d value: 0.17\n"
     ]
    }
   ],
   "source": [
    "n = 450\n",
    "mwu = MannWhitneyU(n)\n",
    "U, p = mwu.sample_and_test(True,True)\n",
    "r, d = mwu.effect_sizes(U)\n",
    "\n",
    "print \"\\nMann-Whitney U test results:\"\n",
    "print \"n = {0}\".format(n)\n",
    "print \"U = {0}\".format(U)\n",
    "print \"p = {0:.2f}\".format(np.mean(p))\n",
    "print \"rank-biserial r value: {0:.2f}\".format(np.mean(r))\n",
    "print \"Cohen's d value: {0:.2f}\".format(np.mean(d))"
   ]
  },
  {
   "cell_type": "markdown",
   "metadata": {},
   "source": [
    "<h3 id='1_3'>1.3 What results did you get from this statistical test?</h3>\n",
    "\n",
    "[ N.B. The following values will change each time this notebook is run; however, the final results should not differ. ]\n",
    "\n",
    "$p = 0.34$\n",
    "\n",
    "**Sample 1 (rainy days)**   \n",
    "$\\bar{x}_{1} = 1805.17$, $M_{1} = 922.5$\n",
    "\n",
    "**Sample 2 (non-rainy days)**  \n",
    "$\\bar{x}_{2} = 1733.25$, $M_{2} = 921.0$"
   ]
  },
  {
   "cell_type": "markdown",
   "metadata": {},
   "source": [
    "<h3 id='1_4'>1.4 What is the significance and interpretation of these results?</h3>"
   ]
  },
  {
   "cell_type": "markdown",
   "metadata": {},
   "source": [
    "####Statistical-Test Summary and Conclusion\n",
    "\n",
    "The difference between the number of entries on rainy and non-rainy days ($n_{1} = n_{2} = 450$) from the data set is not statistically significant based on a two-independent-sample Mann-Whitney $U$ test using scipy.stats.mannwhitneyu ($U$ is extremely high [closer to its max value, $U = 101250$, than its min value] and $p$ is signicantly greater than the proposed critical value $0.05$). In addition, Wendt's rank-biserial correlation $r$ and Cohen's $d$ both indicate an essentially non-existent effect size.\n",
    "\n",
    "Thus, there does not appear to be either a statistical or practical difference between rainy days and non-rainy days."
   ]
  }
 ],
 "metadata": {
  "kernelspec": {
   "display_name": "Python 2",
   "language": "python",
   "name": "python2"
  },
  "language_info": {
   "codemirror_mode": {
    "name": "ipython",
    "version": 2
   },
   "file_extension": ".py",
   "mimetype": "text/x-python",
   "name": "python",
   "nbconvert_exporter": "python",
   "pygments_lexer": "ipython2",
   "version": "2.7.10"
  }
 },
 "nbformat": 4,
 "nbformat_minor": 0
}
