{
 "metadata": {
  "name": "",
  "signature": "sha256:84e6710e6dc4c635f07c29be90cf92719c544e6154fe434e949fc9bdc7cfa54e"
 },
 "nbformat": 3,
 "nbformat_minor": 0,
 "worksheets": [
  {
   "cells": [
    {
     "cell_type": "markdown",
     "metadata": {},
     "source": [
      "#Analyzing the NYC Subway Dataset\n",
      "#Intro to Data Science: Final Project 1, Part 2  \n",
      "#(Short Questions)\n",
      "##Unit_Entries Supplement\n",
      "Austin J. Alexander\n",
      "***"
     ]
    },
    {
     "cell_type": "markdown",
     "metadata": {},
     "source": [
      "##Import Directives and Initial DataFrame Creation"
     ]
    },
    {
     "cell_type": "code",
     "collapsed": false,
     "input": [
      "import inflect # for string manipulation\n",
      "import numpy as np\n",
      "import pandas as pd\n",
      "import matplotlib.pyplot as plt\n",
      "%matplotlib inline\n",
      "\n",
      "filename = '/Users/excalibur/py/nanodegree/intro_ds/final_project/improved-dataset/turnstile_weather_v2.csv'\n",
      "\n",
      "# import data\n",
      "data = pd.read_csv(filename)"
     ],
     "language": "python",
     "metadata": {},
     "outputs": [],
     "prompt_number": 4
    },
    {
     "cell_type": "markdown",
     "metadata": {},
     "source": [
      "##Functions for Getting and Mapping Data"
     ]
    },
    {
     "cell_type": "code",
     "collapsed": false,
     "input": [
      "entries_hourly_by_row = data['ENTRIESn_hourly'].values\n",
      "\n",
      "def map_column_to_entries_hourly(column):\n",
      "    instances = column.values # e.g., longitude_instances = data['longitude'].values\n",
      "    \n",
      "    # reduce\n",
      "    entries_hourly = {} # e.g., longitude_entries_hourly = {}\n",
      "    for i in np.arange(len(instances)): \n",
      "        if instances[i] in entries_hourly:\n",
      "            entries_hourly[instances[i]] += float(entries_hourly_by_row[i])\n",
      "        else:\n",
      "            entries_hourly[instances[i]] = float(entries_hourly_by_row[i])\n",
      "            \n",
      "    return entries_hourly # e.g., longitudes, entries\n",
      "\n",
      "def display_basic_stats(entries_hourly_dict, column1name):\n",
      "    # e.g, longitude_df = pd.DataFrame(data=longitude_entries_hourly.items(), columns=['longitude','entries'])\n",
      "    df = pd.DataFrame(data=entries_hourly_dict.items(), columns=[column1name,'entries'])\n",
      "    \n",
      "    p = inflect.engine()\n",
      "    print \"{0} AND THEIR ENTRIES\".format(p.plural(column1name.upper()))\n",
      "    print df.head(3)\n",
      "    \n",
      "    print \n",
      "    print pd.DataFrame(df['entries']).describe()\n",
      "    print \"{:<7}\".format('range') + \"{:0<14}\".format(str(np.ptp(entries_hourly_dict.values())))\n",
      "    \n",
      "    return df # e.g, longitude_df"
     ],
     "language": "python",
     "metadata": {},
     "outputs": [],
     "prompt_number": 5
    },
    {
     "cell_type": "markdown",
     "metadata": {},
     "source": [
      "##Units and Their Entries"
     ]
    },
    {
     "cell_type": "code",
     "collapsed": false,
     "input": [
      "unit_entries_hourly = map_column_to_entries_hourly(data['UNIT'])\n",
      "unit_df = display_basic_stats(unit_entries_hourly, 'unit')"
     ],
     "language": "python",
     "metadata": {},
     "outputs": [
      {
       "output_type": "stream",
       "stream": "stdout",
       "text": [
        "UNITS AND THEIR ENTRIES\n",
        "   unit  entries\n",
        "0  R318   112098\n",
        "1  R319   254531\n",
        "2  R312    73913\n",
        "\n",
        "              entries\n",
        "count      240.000000\n",
        "mean    335254.895833\n",
        "std     334849.388932\n",
        "min          0.000000\n",
        "25%     131148.000000\n",
        "50%     221479.500000\n",
        "75%     409285.750000\n",
        "max    1868674.000000\n",
        "range  1868674.000000\n"
       ]
      }
     ],
     "prompt_number": 6
    },
    {
     "cell_type": "markdown",
     "metadata": {},
     "source": [
      "##Unit Counts in Data Set"
     ]
    },
    {
     "cell_type": "code",
     "collapsed": false,
     "input": [
      "print data.groupby('UNIT')['DATEn'].count().head()\n",
      "print\n",
      "print data['UNIT'].describe()"
     ],
     "language": "python",
     "metadata": {},
     "outputs": [
      {
       "output_type": "stream",
       "stream": "stdout",
       "text": [
        "UNIT\n",
        "R003    168\n",
        "R004    175\n",
        "R005    172\n",
        "R006    180\n",
        "R007    170\n",
        "Name: DATEn, dtype: int64\n",
        "\n",
        "count     42649\n",
        "unique      240\n",
        "top        R084\n",
        "freq        186\n",
        "Name: UNIT, dtype: object\n"
       ]
      }
     ],
     "prompt_number": 2
    },
    {
     "cell_type": "markdown",
     "metadata": {},
     "source": [
      "##Initial Summary"
     ]
    },
    {
     "cell_type": "markdown",
     "metadata": {},
     "source": [
      "At first, there is no clear reason why **UNIT** row-counts differ from one another. However, after further examination below, it seems clear that **UNIT** row-counts are related to (although not exactly determined by) the two entries columns in the data set, as evidenced, for example, by one of the most frequently occuring units in the data set (R084) receiving the highest number of **ENTRIESn_hourly** and the least frequently occuring unit in the data set (R459) having one of the lowest **ENTRIESn_hourly** (although, not *the* lowest)."
     ]
    },
    {
     "cell_type": "code",
     "collapsed": false,
     "input": [
      "units = data['UNIT'].value_counts()\n",
      "most_freq_units = units[units == units.max()]\n",
      "most_freq_units = list(most_freq_units.index.values) # 52 of these occur in the data set 186 times\n",
      "most_freq_units.sort()\n",
      "\n",
      "most_hourly_entry_units = unit_df.sort(columns='entries', ascending=False).head(52)\n",
      "most_hourly_entry_units = list(most_hourly_entry_units['unit'])\n",
      "most_hourly_entry_units.sort()\n",
      "\n",
      "units_diff = []\n",
      "for unit in most_freq_units:\n",
      "    if unit not in most_hourly_entry_units:\n",
      "        units_diff.append(unit)\n",
      "\n",
      "print \"In ascending order, the first five of the most frequently occurring \\nunit-rows in the data set:\\n\" + str(most_freq_units[0:5])\n",
      "print \"\\nBy contrast, in ascending order, the first five units with the highest \\nnumber of combined entries hourly:\\n\" + str(most_hourly_entry_units[0:5])\n",
      "print \"\\nTotal number of differences between sets:\\n\" + str(len(units_diff)) + \" (out of 52)\""
     ],
     "language": "python",
     "metadata": {},
     "outputs": [
      {
       "output_type": "stream",
       "stream": "stdout",
       "text": [
        "In ascending order, the first five of the most frequently occurring \n",
        "unit-rows in the data set:\n",
        "['R012', 'R013', 'R017', 'R019', 'R020']\n",
        "\n",
        "By contrast, in ascending order, the first five units with the highest \n",
        "number of combined entries hourly:\n",
        "['R011', 'R012', 'R013', 'R017', 'R018']\n",
        "\n",
        "Total number of differences between sets:\n",
        "17 (out of 52)\n"
       ]
      }
     ],
     "prompt_number": 8
    },
    {
     "cell_type": "markdown",
     "metadata": {},
     "source": [
      "Clearly, the number of rows a **UNIT** receives in the data set and the number of **ENTRIESn_hourly** are not exactly aligned. As a matter of thoroughness, checking the **ENTRIESn** column reveals similar discrepencies."
     ]
    },
    {
     "cell_type": "code",
     "collapsed": false,
     "input": [
      "entries_df = data[['UNIT', 'ENTRIESn']]\n",
      "\n",
      "unit_entries = {}\n",
      "for unit in entries_df['UNIT']:\n",
      "    if unit not in unit_entries:\n",
      "        unit_entries[unit] = entries_df[entries_df['UNIT'] == unit]['ENTRIESn'].sum()\n",
      "\n",
      "entries_df = pd.DataFrame(data=unit_entries.items(), columns=['unit', 'entries'])\n",
      "entries_df.sort(columns='entries', ascending=False, inplace=True)\n",
      "highest_entries_df = entries_df.head(52)\n",
      "highest_entry_units = list(highest_entries_df['unit'])\n",
      "highest_entry_units.sort()\n",
      "print \"\\nIn ascending order, the first five of the units with the highest number\\nof combined entries:\\n\" + str(highest_entry_units[0:5])\n",
      "\n",
      "units_diff = []\n",
      "for unit in most_freq_units:\n",
      "    if unit not in highest_entry_units:\n",
      "        units_diff.append(unit)\n",
      "\n",
      "print \"\\nTotal number of differences between the 52 most-frequently-occurring\\nunits in the data set and the 52 units with the highest number of entries:\\n\" + str(len(units_diff)) + \" (out of 52)\"\n",
      "\n",
      "units_diff = []\n",
      "for unit in most_hourly_entry_units:\n",
      "    if unit not in highest_entry_units:\n",
      "        units_diff.append(unit)\n",
      "        \n",
      "print \"\\nTotal number of differences between the 52 units with the most hourly-entries and the 52 units with the highest number of entries:\\n\" + str(len(units_diff)) + \" (out of 52)\""
     ],
     "language": "python",
     "metadata": {},
     "outputs": [
      {
       "output_type": "stream",
       "stream": "stdout",
       "text": [
        "\n",
        "In ascending order, the first five of the units with the highest number\n",
        "of combined entries:\n",
        "['R011', 'R012', 'R017', 'R018', 'R019']\n",
        "\n",
        "Total number of differences between the 52 most-frequently-occurring\n",
        "units in the data set and the 52 units with the highest number of entries:\n",
        "15 (out of 52)\n",
        "\n",
        "Total number of differences between the 52 units with the most hourly-entries and the 52 units with the highest number of entries:\n",
        "12 (out of 52)\n"
       ]
      }
     ],
     "prompt_number": 9
    },
    {
     "cell_type": "markdown",
     "metadata": {},
     "source": [
      "##Apparent Conclusions"
     ]
    },
    {
     "cell_type": "markdown",
     "metadata": {},
     "source": [
      "In summary, while there is clearly some relationship between **UNIT** row-counts and the two entries columns, it is unclear what that exact relationship is, or how it might prove to be useful in the current analysis. Moreover, since only a single numeric value is needed to provide the relative importance/frequency-of-use of each **UNIT**, only one value was used throughout the remainder of this study. \n",
      "\n",
      "Thus, since counting rows of **UNIT** as a relevant metric seemed less precise than using the sum of a given unit's **ENTRIESn_hourly**, the defining numeric characteristic of **UNIT** will be indicated by **ENTRIESn_hourly**. [ **ENTRIESn** failed to be chosen to due the, in comparison, rather odd and unintuitive nature of the values it offers. ]"
     ]
    }
   ],
   "metadata": {}
  }
 ]
}