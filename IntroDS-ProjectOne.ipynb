{
 "cells": [
  {
   "cell_type": "markdown",
   "metadata": {},
   "source": [
    "#Analyzing the NYC Subway Dataset\n",
    "#Intro to Data Science: Final Project 1, Part 2  \n",
    "#(Short Questions)\n",
    "Austin J. Alexander\n",
    "***"
   ]
  },
  {
   "cell_type": "markdown",
   "metadata": {},
   "source": [
    "<h2><a href='IntroDS-ProjectOne-Section1.ipynb' target='_blank'>Section 1. Statistical Test</a></h2>"
   ]
  },
  {
   "cell_type": "markdown",
   "metadata": {},
   "source": [
    "<h3 style='margin-left:10px;'>1.1</h3>\n",
    "\n",
    "<p style='margin-left:20px;'><a href='IntroDS-ProjectOne-Section1.ipynb#1_1_a' target='_blank'>1.1.a Which statistical test did you use to analyse the NYC subway data?</a></p>\n",
    "\n",
    "<p style='margin-left:20px;'><a href='IntroDS-ProjectOne-Section1.ipynb#1_1_b' target='_blank'>1.1.b Did you use a one-tail or a two-tail P value?</a></p>\n",
    "\n",
    "<p style='margin-left:20px;'><a href='IntroDS-ProjectOne-Section1.ipynb#1_1_c' target='_blank'>1.1.c What is the null hypothesis?</a></p>\n",
    "\n",
    "<p style='margin-left:20px;'><a href='IntroDS-ProjectOne-Section1.ipynb#1_1_d' target='_blank'>1.1.d What is your p-critical value?</a></p>"
   ]
  },
  {
   "cell_type": "markdown",
   "metadata": {},
   "source": [
    "<h3 style='margin-left:10px;'>1.2</h3>\n",
    "\n",
    "<p style='margin-left:20px;'>1.2 Why is this statistical test applicable to the dataset? (see <a href='IntroDS-ProjectOne-Section1.ipynb#1_1_a' target='_blank'>1.1.a</a>)</p>"
   ]
  },
  {
   "cell_type": "markdown",
   "metadata": {},
   "source": [
    "<h3 style='margin-left:10px;'>1.3</h3>\n",
    "\n",
    "<p style='margin-left:20px;'><a href='IntroDS-ProjectOne-Section1.ipynb#1_3' target='_blank'>1.3 What results did you get from this statistical test?</a></p>"
   ]
  },
  {
   "cell_type": "markdown",
   "metadata": {},
   "source": [
    "<h3 style='margin-left:10px;'>1.4</h3>\n",
    "\n",
    "<p style='margin-left:20px;'><a href='IntroDS-ProjectOne-Section1.ipynb#1_4' target='_blank'>1.4 What is the significance and interpretation of these results?</a></p>"
   ]
  },
  {
   "cell_type": "markdown",
   "metadata": {},
   "source": [
    "<h2><a href='IntroDS-ProjectOne-Section2.ipynb' target='_blank'>Section 2. Linear Regression</a></h2>"
   ]
  },
  {
   "cell_type": "markdown",
   "metadata": {},
   "source": [
    "<h3 style='margin-left:10px;'>2.1</h3>\n",
    "\n",
    "<p style='margin-left:20px;'><a href='IntroDS-ProjectOne-Section2.ipynb#2_1' target='_blank'>2.1.a What approach did you use to compute the coefficients theta and produce prediction for ENTRIESn_hourly in your regression model?</a></p>"
   ]
  },
  {
   "cell_type": "markdown",
   "metadata": {},
   "source": [
    "<h3 style='margin-left:10px;'>2.2</h3>\n",
    "\n",
    "<p style='margin-left:20px;'><a href='IntroDS-ProjectOne-Section2.ipynb#2_2' target='_blank'>2.2 What features (input variables) did you use in your model? Did you use any dummy variables as part of your features?</a></p>"
   ]
  },
  {
   "cell_type": "markdown",
   "metadata": {},
   "source": [
    "<h3 style='margin-left:10px;'>2.3</h3>\n",
    "\n",
    "<p style='margin-left:20px;'><a href='IntroDS-ProjectOne-Section2.ipynb#2_3' target='_blank'>2.3 Why did you select these features in your model?</a></p>"
   ]
  },
  {
   "cell_type": "markdown",
   "metadata": {},
   "source": [
    "<h3 style='margin-left:10px;'>2.4</h3>\n",
    "\n",
    "<p style='margin-left:20px;'><a href='IntroDS-ProjectOne-Section2.ipynb#2_4' target='_blank'>2.4 What are the coefficients (or weights) of the features in your linear regression model?</a></p>"
   ]
  },
  {
   "cell_type": "markdown",
   "metadata": {},
   "source": [
    "<h3 style='margin-left:10px;'>2.5</h3>\n",
    "\n",
    "<p style='margin-left:20px;'><a href='IntroDS-ProjectOne-Section2.ipynb#2_5' target='_blank'>2.5 What is your model’s $R^{2}$ (coefficients of determination) value?</a></p>"
   ]
  },
  {
   "cell_type": "markdown",
   "metadata": {},
   "source": [
    "<h3 style='margin-left:10px;'>2.6</h3>\n",
    "\n",
    "<p style='margin-left:20px;'><a href='IntroDS-ProjectOne-Section2.ipynb#2_6_a' target='_blank'>2.6.a What does this $R^{2}$ value mean for the goodness of fit for your regression model?</a></p>\n",
    "\n",
    "<p style='margin-left:20px;'><a href='IntroDS-ProjectOne-Section2.ipynb#2_6_b' target='_blank'>2.6.b Do you think this linear model to predict ridership is appropriate for this dataset, given this $R^{2}$ value?</a></p>"
   ]
  },
  {
   "cell_type": "markdown",
   "metadata": {},
   "source": [
    "<h2>Section 3. Visualization</h2>\n",
    "\n",
    "<h3 style='margin-left:10px;'>3.1</h3>\n",
    "\n",
    "<p style='margin-left:20px;'>3.1 One visualization should contain two histograms: one of  ENTRIESn_hourly for rainy days and one of ENTRIESn_hourly for non-rainy days (see the <a href='IntroDS-ProjectOne-DataExploration-Supplement.ipynb#entries-hist' target='_blank'>ENTRIESn_hourly HISTOGRAM (by RAIN)</a> in the *DataExploration* supplement)</p>\n",
    "\n",
    "<h3 style='margin-left:10px;'>3.2</h3>\n",
    "\n",
    "<p style='margin-left:20px;'>3.2 One visualization can be more freeform (e.g., see the <a href='IntroDS-ProjectOne-DataExploration-Supplement.ipynb#station-lat-long-map' target='_blank'>Combining Station, Latitude, Longitude Data on a Map Layer</a> in the *DataExploration* supplement)</p>"
   ]
  },
  {
   "cell_type": "markdown",
   "metadata": {},
   "source": [
    "<h2>Section 4. Conclusion</h2>\n",
    "\n",
    "<h3 style='margin-left:10px;'>4.1</h3>\n",
    "\n",
    "<p style='margin-left:20px;'>4.1 From your analysis and interpretation of the data, do more people ride the NYC subway when it is raining or when it is not raining?</p>\n",
    "\n",
    "From the current data set and the analyses performed, it remains inconclusive whether rain has any impact on the number of NYC subway entries. However, based on this data set alone, rain seemed to be an insignificant factor as it related to subway ridership. Thus, further analysis is necessary.\n",
    "\n",
    "On the other hand, based on the data exploration, it seems quite clear that the number of entries is highly dependent on physical location, particularly station position, with specific units having the most importance. \n",
    "\n",
    "<h3 style='margin-left:10px;'>4.2</h3>\n",
    "\n",
    "<p style='margin-left:20px;'>4.2 What analyses lead you to this conclusion?</p>\n",
    "\n",
    "Based on exploration, statistical significance tests, and attempts at modeling the data, physical location dominated as an explanatory variable with respect to the number of entries. The Mann-Whitney $U$ test indicated that rainy and non-rainy days were essentially identical. Thus, there did not appear to be either a statistical or, based on the effect size values, practical difference between rainy days and non-rainy days in terms of their respective number of entries."
   ]
  },
  {
   "cell_type": "markdown",
   "metadata": {},
   "source": [
    "<h2>Section 5. Reflection</h2>\n",
    "\n",
    "<h3 style='margin-left:10px;'>5.1</h3>\n",
    "\n",
    "<p style='margin-left:20px;'>5.1 Please discuss potential shortcomings of the methods of your analysis</p>\n",
    "\n",
    "The data set under consideration was limited to a single month in the late spring / early summer of a particular year. As a result, among countless other possible factors for which the available data did not account, precipitation may in fact have an increased impact on the number of entries at other times of the year (e.g., during the winter months). Thus, the data set was limited by its temporal locale.\n",
    "\n",
    "The linear regression model that was created, while having very high $r$ and $R^{2}$ values did not, based on residual analysis, adequately model the data. There is in fact *not* a linear relationship between the explanatory and response variables under consideration; thus, a non-linear model would likely be more appropriate for the current data set.\n",
    "\n",
    "The statistical tests that were employed seemed effective (as long as sample sizes were kept small enough). However, it's unclear how traditional statistical tests relate to massive data sets (esp. since many statitical tests need to be used with relatively small sample sizes; on this point, see 5.2 below).\n",
    "\n",
    "<h3 style='margin-left:10px;'>5.2</h3>\n",
    "\n",
    "<p style='margin-left:20px;'>5.2 (Optional) Do you have any other insight about the dataset that you would like to share with us?</p>\n",
    "\n",
    "Assuming all statistical tests and learning models were implemented and interpreted correctly, it became clear that computational power was very important in data science, not due to the ability merely to apply methods to data, but in the ability to repeat numerous tests on random samples of data, which, at least in the case of this analysis, encouraged more confidence in test/model results. "
   ]
  },
  {
   "cell_type": "markdown",
   "metadata": {},
   "source": [
    "***"
   ]
  },
  {
   "cell_type": "markdown",
   "metadata": {},
   "source": [
    "<h2><a href='IntroDS-ProjectOne-DataExploration-Supplement.ipynb' target='_blank'>DataExploration Supplement</a></h2>\n",
    "\n",
    "<h2><a href='IntroDS-ProjectOne-Rain-Supplement.ipynb' target='_blank'>Rain Supplement</a></h2>\n",
    "\n",
    "<h2><a href='IntroDS-ProjectOne-Unit_Entries-Supplement.ipynb' target='_blank'>Unit_Entries Supplement</a></h2>"
   ]
  },
  {
   "cell_type": "markdown",
   "metadata": {},
   "source": [
    "***"
   ]
  },
  {
   "cell_type": "markdown",
   "metadata": {},
   "source": [
    "While an inumerable number of online resources were used to attain a better understanding of the statistical matters in this analysis, the primary source for statistical definitions and methods was <a href='http://www.amazon.com/Statistics-Informed-Decisions-Using-Edition/dp/0321757270' target='_blank'>Michael Sullvan's *Statistics: Informed decisions using data* (4th ed.)</a>."
   ]
  }
 ],
 "metadata": {
  "kernelspec": {
   "display_name": "Python 2",
   "language": "python",
   "name": "python2"
  },
  "language_info": {
   "codemirror_mode": {
    "name": "ipython",
    "version": 2
   },
   "file_extension": ".py",
   "mimetype": "text/x-python",
   "name": "python",
   "nbconvert_exporter": "python",
   "pygments_lexer": "ipython2",
   "version": "2.7.10"
  }
 },
 "nbformat": 4,
 "nbformat_minor": 0
}
